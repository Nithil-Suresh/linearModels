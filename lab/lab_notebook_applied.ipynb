{
  "cells": [
    {
      "cell_type": "markdown",
      "metadata": {
        "vscode": {
          "languageId": "bat"
        },
        "id": "SQEphzeKCabG"
      },
      "source": [
        "# Hedonic Pricing\n",
        "\n",
        "We often try to predict the price of an asset from its observable characteristics. This is generally called **hedonic pricing**: How do the unit's characteristics determine its market price?\n",
        "\n",
        "In the lab folder, there are three options: housing prices in pierce_county_house_sales.csv, car prices in cars_hw.csv, and airbnb rental prices in airbnb_hw.csv. If you know of another suitable dataset, please feel free to use that one.\n",
        "\n",
        "1. Clean the data and perform some EDA and visualization to get to know the data set.\n",
        "2. Transform your variables --- particularly categorical ones --- for use in your regression analysis.\n",
        "3. Implement an ~80/~20 train-test split. Put the test data aside.\n",
        "4. Build some simple linear models that include no transformations or interactions. Fit them, and determine their RMSE and $R^2$ on the both the training and test sets. Which of your models does the best?\n",
        "5. Make partial correlation plots for each of the numeric variables in your model. Do you notice any significant non-linearities?\n",
        "6. Include transformations and interactions of your variables, and build a more complex model that reflects your ideas about how the features of the asset determine its value. Determine its RMSE and $R^2$ on the training and test sets. How does the more complex model your build compare to the simpler ones?\n",
        "7. Summarize your results from 1 to 6. Have you learned anything about overfitting and underfitting, or model selection?\n",
        "8. If you have time, use the sklearn.linear_model.Lasso to regularize your model and select the most predictive features. Which does it select? What are the RMSE and $R^2$? We'll cover the Lasso later in detail in class."
      ]
    },
    {
      "cell_type": "code",
      "source": [
        "! git clone https://github.com/ds4e/linearModels"
      ],
      "metadata": {
        "colab": {
          "base_uri": "https://localhost:8080/"
        },
        "id": "85oloxntCbgD",
        "outputId": "c1e6f64d-7d58-4e45-9e3f-1af5734d4dcf"
      },
      "execution_count": 2,
      "outputs": [
        {
          "output_type": "stream",
          "name": "stdout",
          "text": [
            "Cloning into 'linearModels'...\n",
            "remote: Enumerating objects: 43, done.\u001b[K\n",
            "remote: Counting objects: 100% (16/16), done.\u001b[K\n",
            "remote: Compressing objects: 100% (11/11), done.\u001b[K\n",
            "remote: Total 43 (delta 9), reused 5 (delta 5), pack-reused 27 (from 1)\u001b[K\n",
            "Receiving objects: 100% (43/43), 3.60 MiB | 4.83 MiB/s, done.\n",
            "Resolving deltas: 100% (9/9), done.\n"
          ]
        }
      ]
    },
    {
      "cell_type": "code",
      "source": [
        "import numpy as np\n",
        "import pandas as pd\n",
        "import matplotlib.pyplot as plt\n",
        "import seaborn as sns\n",
        "import os\n",
        "\n",
        "print(os.getcwd())\n",
        "\n",
        "new_directory = \"/content/linearModels/lab\"\n",
        "os.chdir(new_directory)\n",
        "\n",
        "df = pd.read_csv('./data/pierce_county_house_sales.csv')\n",
        "\n",
        "df.head()"
      ],
      "metadata": {
        "colab": {
          "base_uri": "https://localhost:8080/",
          "height": 331
        },
        "id": "WzYwQ9y1CoXm",
        "outputId": "111b8291-94c9-45da-cd8e-1d25f0d28203"
      },
      "execution_count": 3,
      "outputs": [
        {
          "output_type": "stream",
          "name": "stdout",
          "text": [
            "/content\n"
          ]
        },
        {
          "output_type": "execute_result",
          "data": {
            "text/plain": [
              "    sale_date  sale_price  house_square_feet  attic_finished_square_feet  \\\n",
              "0  2020-01-02      380000               2157                           0   \n",
              "1  2020-01-02      383000               2238                           0   \n",
              "2  2020-01-01      419900               1452                           0   \n",
              "3  2020-01-02      251660                832                           0   \n",
              "4  2020-01-02      500000               1780                           0   \n",
              "\n",
              "   basement_square_feet  attached_garage_square_feet  \\\n",
              "0                     0                          528   \n",
              "1                     0                          396   \n",
              "2                     0                            0   \n",
              "3                     0                            0   \n",
              "4                   384                          484   \n",
              "\n",
              "   detached_garage_square_feet  fireplaces        hvac_description  \\\n",
              "0                            0           0  Warm and Cool Air Zone   \n",
              "1                            0           0              Forced Air   \n",
              "2                            0           1              Forced Air   \n",
              "3                            0           0              Forced Air   \n",
              "4                            0           1              Forced Air   \n",
              "\n",
              "       exterior interior  stories           roof_cover  year_built  bedrooms  \\\n",
              "0  Frame Siding  Drywall        2  Composition Shingle        1993         3   \n",
              "1  Frame Siding  Drywall        2  Composition Shingle        2017         4   \n",
              "2  Frame Siding  Drywall        1        Built Up Rock        1965         3   \n",
              "3   Frame Vinyl  Drywall        1  Composition Shingle        1919         2   \n",
              "4  Frame Siding  Drywall        1  Composition Shingle        1955         3   \n",
              "\n",
              "   bathrooms waterfront_type view_quality           utility_sewer  \n",
              "0          3             NaN          NaN  SEWER/SEPTIC INSTALLED  \n",
              "1          3             NaN          NaN  SEWER/SEPTIC INSTALLED  \n",
              "2          2             NaN          NaN  SEWER/SEPTIC INSTALLED  \n",
              "3          1             NaN          NaN  SEWER/SEPTIC INSTALLED  \n",
              "4          2             NaN          NaN  SEWER/SEPTIC INSTALLED  "
            ],
            "text/html": [
              "\n",
              "  <div id=\"df-124ab1c3-df7c-43c9-a2bf-f6f06379be79\" class=\"colab-df-container\">\n",
              "    <div>\n",
              "<style scoped>\n",
              "    .dataframe tbody tr th:only-of-type {\n",
              "        vertical-align: middle;\n",
              "    }\n",
              "\n",
              "    .dataframe tbody tr th {\n",
              "        vertical-align: top;\n",
              "    }\n",
              "\n",
              "    .dataframe thead th {\n",
              "        text-align: right;\n",
              "    }\n",
              "</style>\n",
              "<table border=\"1\" class=\"dataframe\">\n",
              "  <thead>\n",
              "    <tr style=\"text-align: right;\">\n",
              "      <th></th>\n",
              "      <th>sale_date</th>\n",
              "      <th>sale_price</th>\n",
              "      <th>house_square_feet</th>\n",
              "      <th>attic_finished_square_feet</th>\n",
              "      <th>basement_square_feet</th>\n",
              "      <th>attached_garage_square_feet</th>\n",
              "      <th>detached_garage_square_feet</th>\n",
              "      <th>fireplaces</th>\n",
              "      <th>hvac_description</th>\n",
              "      <th>exterior</th>\n",
              "      <th>interior</th>\n",
              "      <th>stories</th>\n",
              "      <th>roof_cover</th>\n",
              "      <th>year_built</th>\n",
              "      <th>bedrooms</th>\n",
              "      <th>bathrooms</th>\n",
              "      <th>waterfront_type</th>\n",
              "      <th>view_quality</th>\n",
              "      <th>utility_sewer</th>\n",
              "    </tr>\n",
              "  </thead>\n",
              "  <tbody>\n",
              "    <tr>\n",
              "      <th>0</th>\n",
              "      <td>2020-01-02</td>\n",
              "      <td>380000</td>\n",
              "      <td>2157</td>\n",
              "      <td>0</td>\n",
              "      <td>0</td>\n",
              "      <td>528</td>\n",
              "      <td>0</td>\n",
              "      <td>0</td>\n",
              "      <td>Warm and Cool Air Zone</td>\n",
              "      <td>Frame Siding</td>\n",
              "      <td>Drywall</td>\n",
              "      <td>2</td>\n",
              "      <td>Composition Shingle</td>\n",
              "      <td>1993</td>\n",
              "      <td>3</td>\n",
              "      <td>3</td>\n",
              "      <td>NaN</td>\n",
              "      <td>NaN</td>\n",
              "      <td>SEWER/SEPTIC INSTALLED</td>\n",
              "    </tr>\n",
              "    <tr>\n",
              "      <th>1</th>\n",
              "      <td>2020-01-02</td>\n",
              "      <td>383000</td>\n",
              "      <td>2238</td>\n",
              "      <td>0</td>\n",
              "      <td>0</td>\n",
              "      <td>396</td>\n",
              "      <td>0</td>\n",
              "      <td>0</td>\n",
              "      <td>Forced Air</td>\n",
              "      <td>Frame Siding</td>\n",
              "      <td>Drywall</td>\n",
              "      <td>2</td>\n",
              "      <td>Composition Shingle</td>\n",
              "      <td>2017</td>\n",
              "      <td>4</td>\n",
              "      <td>3</td>\n",
              "      <td>NaN</td>\n",
              "      <td>NaN</td>\n",
              "      <td>SEWER/SEPTIC INSTALLED</td>\n",
              "    </tr>\n",
              "    <tr>\n",
              "      <th>2</th>\n",
              "      <td>2020-01-01</td>\n",
              "      <td>419900</td>\n",
              "      <td>1452</td>\n",
              "      <td>0</td>\n",
              "      <td>0</td>\n",
              "      <td>0</td>\n",
              "      <td>0</td>\n",
              "      <td>1</td>\n",
              "      <td>Forced Air</td>\n",
              "      <td>Frame Siding</td>\n",
              "      <td>Drywall</td>\n",
              "      <td>1</td>\n",
              "      <td>Built Up Rock</td>\n",
              "      <td>1965</td>\n",
              "      <td>3</td>\n",
              "      <td>2</td>\n",
              "      <td>NaN</td>\n",
              "      <td>NaN</td>\n",
              "      <td>SEWER/SEPTIC INSTALLED</td>\n",
              "    </tr>\n",
              "    <tr>\n",
              "      <th>3</th>\n",
              "      <td>2020-01-02</td>\n",
              "      <td>251660</td>\n",
              "      <td>832</td>\n",
              "      <td>0</td>\n",
              "      <td>0</td>\n",
              "      <td>0</td>\n",
              "      <td>0</td>\n",
              "      <td>0</td>\n",
              "      <td>Forced Air</td>\n",
              "      <td>Frame Vinyl</td>\n",
              "      <td>Drywall</td>\n",
              "      <td>1</td>\n",
              "      <td>Composition Shingle</td>\n",
              "      <td>1919</td>\n",
              "      <td>2</td>\n",
              "      <td>1</td>\n",
              "      <td>NaN</td>\n",
              "      <td>NaN</td>\n",
              "      <td>SEWER/SEPTIC INSTALLED</td>\n",
              "    </tr>\n",
              "    <tr>\n",
              "      <th>4</th>\n",
              "      <td>2020-01-02</td>\n",
              "      <td>500000</td>\n",
              "      <td>1780</td>\n",
              "      <td>0</td>\n",
              "      <td>384</td>\n",
              "      <td>484</td>\n",
              "      <td>0</td>\n",
              "      <td>1</td>\n",
              "      <td>Forced Air</td>\n",
              "      <td>Frame Siding</td>\n",
              "      <td>Drywall</td>\n",
              "      <td>1</td>\n",
              "      <td>Composition Shingle</td>\n",
              "      <td>1955</td>\n",
              "      <td>3</td>\n",
              "      <td>2</td>\n",
              "      <td>NaN</td>\n",
              "      <td>NaN</td>\n",
              "      <td>SEWER/SEPTIC INSTALLED</td>\n",
              "    </tr>\n",
              "  </tbody>\n",
              "</table>\n",
              "</div>\n",
              "    <div class=\"colab-df-buttons\">\n",
              "\n",
              "  <div class=\"colab-df-container\">\n",
              "    <button class=\"colab-df-convert\" onclick=\"convertToInteractive('df-124ab1c3-df7c-43c9-a2bf-f6f06379be79')\"\n",
              "            title=\"Convert this dataframe to an interactive table.\"\n",
              "            style=\"display:none;\">\n",
              "\n",
              "  <svg xmlns=\"http://www.w3.org/2000/svg\" height=\"24px\" viewBox=\"0 -960 960 960\">\n",
              "    <path d=\"M120-120v-720h720v720H120Zm60-500h600v-160H180v160Zm220 220h160v-160H400v160Zm0 220h160v-160H400v160ZM180-400h160v-160H180v160Zm440 0h160v-160H620v160ZM180-180h160v-160H180v160Zm440 0h160v-160H620v160Z\"/>\n",
              "  </svg>\n",
              "    </button>\n",
              "\n",
              "  <style>\n",
              "    .colab-df-container {\n",
              "      display:flex;\n",
              "      gap: 12px;\n",
              "    }\n",
              "\n",
              "    .colab-df-convert {\n",
              "      background-color: #E8F0FE;\n",
              "      border: none;\n",
              "      border-radius: 50%;\n",
              "      cursor: pointer;\n",
              "      display: none;\n",
              "      fill: #1967D2;\n",
              "      height: 32px;\n",
              "      padding: 0 0 0 0;\n",
              "      width: 32px;\n",
              "    }\n",
              "\n",
              "    .colab-df-convert:hover {\n",
              "      background-color: #E2EBFA;\n",
              "      box-shadow: 0px 1px 2px rgba(60, 64, 67, 0.3), 0px 1px 3px 1px rgba(60, 64, 67, 0.15);\n",
              "      fill: #174EA6;\n",
              "    }\n",
              "\n",
              "    .colab-df-buttons div {\n",
              "      margin-bottom: 4px;\n",
              "    }\n",
              "\n",
              "    [theme=dark] .colab-df-convert {\n",
              "      background-color: #3B4455;\n",
              "      fill: #D2E3FC;\n",
              "    }\n",
              "\n",
              "    [theme=dark] .colab-df-convert:hover {\n",
              "      background-color: #434B5C;\n",
              "      box-shadow: 0px 1px 3px 1px rgba(0, 0, 0, 0.15);\n",
              "      filter: drop-shadow(0px 1px 2px rgba(0, 0, 0, 0.3));\n",
              "      fill: #FFFFFF;\n",
              "    }\n",
              "  </style>\n",
              "\n",
              "    <script>\n",
              "      const buttonEl =\n",
              "        document.querySelector('#df-124ab1c3-df7c-43c9-a2bf-f6f06379be79 button.colab-df-convert');\n",
              "      buttonEl.style.display =\n",
              "        google.colab.kernel.accessAllowed ? 'block' : 'none';\n",
              "\n",
              "      async function convertToInteractive(key) {\n",
              "        const element = document.querySelector('#df-124ab1c3-df7c-43c9-a2bf-f6f06379be79');\n",
              "        const dataTable =\n",
              "          await google.colab.kernel.invokeFunction('convertToInteractive',\n",
              "                                                    [key], {});\n",
              "        if (!dataTable) return;\n",
              "\n",
              "        const docLinkHtml = 'Like what you see? Visit the ' +\n",
              "          '<a target=\"_blank\" href=https://colab.research.google.com/notebooks/data_table.ipynb>data table notebook</a>'\n",
              "          + ' to learn more about interactive tables.';\n",
              "        element.innerHTML = '';\n",
              "        dataTable['output_type'] = 'display_data';\n",
              "        await google.colab.output.renderOutput(dataTable, element);\n",
              "        const docLink = document.createElement('div');\n",
              "        docLink.innerHTML = docLinkHtml;\n",
              "        element.appendChild(docLink);\n",
              "      }\n",
              "    </script>\n",
              "  </div>\n",
              "\n",
              "\n",
              "<div id=\"df-603f6e69-c139-40fe-8292-e1d985cd3ed7\">\n",
              "  <button class=\"colab-df-quickchart\" onclick=\"quickchart('df-603f6e69-c139-40fe-8292-e1d985cd3ed7')\"\n",
              "            title=\"Suggest charts\"\n",
              "            style=\"display:none;\">\n",
              "\n",
              "<svg xmlns=\"http://www.w3.org/2000/svg\" height=\"24px\"viewBox=\"0 0 24 24\"\n",
              "     width=\"24px\">\n",
              "    <g>\n",
              "        <path d=\"M19 3H5c-1.1 0-2 .9-2 2v14c0 1.1.9 2 2 2h14c1.1 0 2-.9 2-2V5c0-1.1-.9-2-2-2zM9 17H7v-7h2v7zm4 0h-2V7h2v10zm4 0h-2v-4h2v4z\"/>\n",
              "    </g>\n",
              "</svg>\n",
              "  </button>\n",
              "\n",
              "<style>\n",
              "  .colab-df-quickchart {\n",
              "      --bg-color: #E8F0FE;\n",
              "      --fill-color: #1967D2;\n",
              "      --hover-bg-color: #E2EBFA;\n",
              "      --hover-fill-color: #174EA6;\n",
              "      --disabled-fill-color: #AAA;\n",
              "      --disabled-bg-color: #DDD;\n",
              "  }\n",
              "\n",
              "  [theme=dark] .colab-df-quickchart {\n",
              "      --bg-color: #3B4455;\n",
              "      --fill-color: #D2E3FC;\n",
              "      --hover-bg-color: #434B5C;\n",
              "      --hover-fill-color: #FFFFFF;\n",
              "      --disabled-bg-color: #3B4455;\n",
              "      --disabled-fill-color: #666;\n",
              "  }\n",
              "\n",
              "  .colab-df-quickchart {\n",
              "    background-color: var(--bg-color);\n",
              "    border: none;\n",
              "    border-radius: 50%;\n",
              "    cursor: pointer;\n",
              "    display: none;\n",
              "    fill: var(--fill-color);\n",
              "    height: 32px;\n",
              "    padding: 0;\n",
              "    width: 32px;\n",
              "  }\n",
              "\n",
              "  .colab-df-quickchart:hover {\n",
              "    background-color: var(--hover-bg-color);\n",
              "    box-shadow: 0 1px 2px rgba(60, 64, 67, 0.3), 0 1px 3px 1px rgba(60, 64, 67, 0.15);\n",
              "    fill: var(--button-hover-fill-color);\n",
              "  }\n",
              "\n",
              "  .colab-df-quickchart-complete:disabled,\n",
              "  .colab-df-quickchart-complete:disabled:hover {\n",
              "    background-color: var(--disabled-bg-color);\n",
              "    fill: var(--disabled-fill-color);\n",
              "    box-shadow: none;\n",
              "  }\n",
              "\n",
              "  .colab-df-spinner {\n",
              "    border: 2px solid var(--fill-color);\n",
              "    border-color: transparent;\n",
              "    border-bottom-color: var(--fill-color);\n",
              "    animation:\n",
              "      spin 1s steps(1) infinite;\n",
              "  }\n",
              "\n",
              "  @keyframes spin {\n",
              "    0% {\n",
              "      border-color: transparent;\n",
              "      border-bottom-color: var(--fill-color);\n",
              "      border-left-color: var(--fill-color);\n",
              "    }\n",
              "    20% {\n",
              "      border-color: transparent;\n",
              "      border-left-color: var(--fill-color);\n",
              "      border-top-color: var(--fill-color);\n",
              "    }\n",
              "    30% {\n",
              "      border-color: transparent;\n",
              "      border-left-color: var(--fill-color);\n",
              "      border-top-color: var(--fill-color);\n",
              "      border-right-color: var(--fill-color);\n",
              "    }\n",
              "    40% {\n",
              "      border-color: transparent;\n",
              "      border-right-color: var(--fill-color);\n",
              "      border-top-color: var(--fill-color);\n",
              "    }\n",
              "    60% {\n",
              "      border-color: transparent;\n",
              "      border-right-color: var(--fill-color);\n",
              "    }\n",
              "    80% {\n",
              "      border-color: transparent;\n",
              "      border-right-color: var(--fill-color);\n",
              "      border-bottom-color: var(--fill-color);\n",
              "    }\n",
              "    90% {\n",
              "      border-color: transparent;\n",
              "      border-bottom-color: var(--fill-color);\n",
              "    }\n",
              "  }\n",
              "</style>\n",
              "\n",
              "  <script>\n",
              "    async function quickchart(key) {\n",
              "      const quickchartButtonEl =\n",
              "        document.querySelector('#' + key + ' button');\n",
              "      quickchartButtonEl.disabled = true;  // To prevent multiple clicks.\n",
              "      quickchartButtonEl.classList.add('colab-df-spinner');\n",
              "      try {\n",
              "        const charts = await google.colab.kernel.invokeFunction(\n",
              "            'suggestCharts', [key], {});\n",
              "      } catch (error) {\n",
              "        console.error('Error during call to suggestCharts:', error);\n",
              "      }\n",
              "      quickchartButtonEl.classList.remove('colab-df-spinner');\n",
              "      quickchartButtonEl.classList.add('colab-df-quickchart-complete');\n",
              "    }\n",
              "    (() => {\n",
              "      let quickchartButtonEl =\n",
              "        document.querySelector('#df-603f6e69-c139-40fe-8292-e1d985cd3ed7 button');\n",
              "      quickchartButtonEl.style.display =\n",
              "        google.colab.kernel.accessAllowed ? 'block' : 'none';\n",
              "    })();\n",
              "  </script>\n",
              "</div>\n",
              "\n",
              "    </div>\n",
              "  </div>\n"
            ],
            "application/vnd.google.colaboratory.intrinsic+json": {
              "type": "dataframe",
              "variable_name": "df",
              "summary": "{\n  \"name\": \"df\",\n  \"rows\": 16814,\n  \"fields\": [\n    {\n      \"column\": \"sale_date\",\n      \"properties\": {\n        \"dtype\": \"object\",\n        \"num_unique_values\": 362,\n        \"samples\": [\n          \"2020-06-13\",\n          \"2020-02-07\",\n          \"2020-01-17\"\n        ],\n        \"semantic_type\": \"\",\n        \"description\": \"\"\n      }\n    },\n    {\n      \"column\": \"sale_price\",\n      \"properties\": {\n        \"dtype\": \"number\",\n        \"std\": 236083,\n        \"min\": 2000,\n        \"max\": 6130000,\n        \"num_unique_values\": 3606,\n        \"samples\": [\n          654900,\n          486467,\n          370950\n        ],\n        \"semantic_type\": \"\",\n        \"description\": \"\"\n      }\n    },\n    {\n      \"column\": \"house_square_feet\",\n      \"properties\": {\n        \"dtype\": \"number\",\n        \"std\": 760,\n        \"min\": 1,\n        \"max\": 9510,\n        \"num_unique_values\": 2947,\n        \"samples\": [\n          1758,\n          1460,\n          4148\n        ],\n        \"semantic_type\": \"\",\n        \"description\": \"\"\n      }\n    },\n    {\n      \"column\": \"attic_finished_square_feet\",\n      \"properties\": {\n        \"dtype\": \"number\",\n        \"std\": 102,\n        \"min\": 0,\n        \"max\": 1212,\n        \"num_unique_values\": 275,\n        \"samples\": [\n          536,\n          632,\n          792\n        ],\n        \"semantic_type\": \"\",\n        \"description\": \"\"\n      }\n    },\n    {\n      \"column\": \"basement_square_feet\",\n      \"properties\": {\n        \"dtype\": \"number\",\n        \"std\": 429,\n        \"min\": 0,\n        \"max\": 4000,\n        \"num_unique_values\": 1012,\n        \"samples\": [\n          843,\n          133,\n          2020\n        ],\n        \"semantic_type\": \"\",\n        \"description\": \"\"\n      }\n    },\n    {\n      \"column\": \"attached_garage_square_feet\",\n      \"properties\": {\n        \"dtype\": \"number\",\n        \"std\": 286,\n        \"min\": 0,\n        \"max\": 2816,\n        \"num_unique_values\": 829,\n        \"samples\": [\n          1053,\n          637,\n          527\n        ],\n        \"semantic_type\": \"\",\n        \"description\": \"\"\n      }\n    },\n    {\n      \"column\": \"detached_garage_square_feet\",\n      \"properties\": {\n        \"dtype\": \"number\",\n        \"std\": 164,\n        \"min\": 0,\n        \"max\": 3664,\n        \"num_unique_values\": 236,\n        \"samples\": [\n          840,\n          561,\n          1330\n        ],\n        \"semantic_type\": \"\",\n        \"description\": \"\"\n      }\n    },\n    {\n      \"column\": \"fireplaces\",\n      \"properties\": {\n        \"dtype\": \"number\",\n        \"std\": 0,\n        \"min\": 0,\n        \"max\": 5,\n        \"num_unique_values\": 6,\n        \"samples\": [\n          0,\n          1,\n          5\n        ],\n        \"semantic_type\": \"\",\n        \"description\": \"\"\n      }\n    },\n    {\n      \"column\": \"hvac_description\",\n      \"properties\": {\n        \"dtype\": \"category\",\n        \"num_unique_values\": 9,\n        \"samples\": [\n          \"Hot Water Baseboard\",\n          \"Forced Air\",\n          \"No Heat\"\n        ],\n        \"semantic_type\": \"\",\n        \"description\": \"\"\n      }\n    },\n    {\n      \"column\": \"exterior\",\n      \"properties\": {\n        \"dtype\": \"category\",\n        \"num_unique_values\": 16,\n        \"samples\": [\n          \"Frame Siding\",\n          \"Frame Vinyl\",\n          \"Finished Cottage\"\n        ],\n        \"semantic_type\": \"\",\n        \"description\": \"\"\n      }\n    },\n    {\n      \"column\": \"interior\",\n      \"properties\": {\n        \"dtype\": \"category\",\n        \"num_unique_values\": 2,\n        \"samples\": [\n          \"Paneling\",\n          \"Drywall\"\n        ],\n        \"semantic_type\": \"\",\n        \"description\": \"\"\n      }\n    },\n    {\n      \"column\": \"stories\",\n      \"properties\": {\n        \"dtype\": \"number\",\n        \"std\": 0,\n        \"min\": 0,\n        \"max\": 3,\n        \"num_unique_values\": 4,\n        \"samples\": [\n          1,\n          0\n        ],\n        \"semantic_type\": \"\",\n        \"description\": \"\"\n      }\n    },\n    {\n      \"column\": \"roof_cover\",\n      \"properties\": {\n        \"dtype\": \"category\",\n        \"num_unique_values\": 6,\n        \"samples\": [\n          \"Composition Shingle\",\n          \"Built Up Rock\"\n        ],\n        \"semantic_type\": \"\",\n        \"description\": \"\"\n      }\n    },\n    {\n      \"column\": \"year_built\",\n      \"properties\": {\n        \"dtype\": \"number\",\n        \"std\": 33,\n        \"min\": 1880,\n        \"max\": 2021,\n        \"num_unique_values\": 133,\n        \"samples\": [\n          2018,\n          1914\n        ],\n        \"semantic_type\": \"\",\n        \"description\": \"\"\n      }\n    },\n    {\n      \"column\": \"bedrooms\",\n      \"properties\": {\n        \"dtype\": \"number\",\n        \"std\": 0,\n        \"min\": 0,\n        \"max\": 25,\n        \"num_unique_values\": 11,\n        \"samples\": [\n          6,\n          3\n        ],\n        \"semantic_type\": \"\",\n        \"description\": \"\"\n      }\n    },\n    {\n      \"column\": \"bathrooms\",\n      \"properties\": {\n        \"dtype\": \"number\",\n        \"std\": 0,\n        \"min\": 0,\n        \"max\": 8,\n        \"num_unique_values\": 8,\n        \"samples\": [\n          2,\n          0\n        ],\n        \"semantic_type\": \"\",\n        \"description\": \"\"\n      }\n    },\n    {\n      \"column\": \"waterfront_type\",\n      \"properties\": {\n        \"dtype\": \"category\",\n        \"num_unique_values\": 4,\n        \"samples\": [\n          \"WF Salt\",\n          \"WF River\"\n        ],\n        \"semantic_type\": \"\",\n        \"description\": \"\"\n      }\n    },\n    {\n      \"column\": \"view_quality\",\n      \"properties\": {\n        \"dtype\": \"category\",\n        \"num_unique_values\": 8,\n        \"samples\": [\n          \"View Lim -\",\n          \"View Lim +\"\n        ],\n        \"semantic_type\": \"\",\n        \"description\": \"\"\n      }\n    },\n    {\n      \"column\": \"utility_sewer\",\n      \"properties\": {\n        \"dtype\": \"category\",\n        \"num_unique_values\": 5,\n        \"samples\": [\n          \"SEWER AVAILABLE\",\n          \"SEWER/SEPTIC AVAIL\"\n        ],\n        \"semantic_type\": \"\",\n        \"description\": \"\"\n      }\n    }\n  ]\n}"
            }
          },
          "metadata": {},
          "execution_count": 3
        }
      ]
    },
    {
      "cell_type": "markdown",
      "source": [
        "1. Clean the data and perform some EDA and visualization to get to know the data set."
      ],
      "metadata": {
        "id": "HJRA7I46DFBL"
      }
    },
    {
      "cell_type": "code",
      "source": [
        "df.describe()"
      ],
      "metadata": {
        "colab": {
          "base_uri": "https://localhost:8080/",
          "height": 320
        },
        "id": "bDtn0H_MDFbu",
        "outputId": "9f2516fa-603a-4d30-dad6-899bfe26c0de"
      },
      "execution_count": 4,
      "outputs": [
        {
          "output_type": "execute_result",
          "data": {
            "text/plain": [
              "         sale_price  house_square_feet  attic_finished_square_feet  \\\n",
              "count  1.681400e+04       16814.000000                16814.000000   \n",
              "mean   4.612332e+05        1879.941953                   24.945878   \n",
              "std    2.360833e+05         760.419008                  102.066417   \n",
              "min    2.000000e+03           1.000000                    0.000000   \n",
              "25%    3.480000e+05        1320.000000                    0.000000   \n",
              "50%    4.165000e+05        1774.000000                    0.000000   \n",
              "75%    5.238065e+05        2352.000000                    0.000000   \n",
              "max    6.130000e+06        9510.000000                 1212.000000   \n",
              "\n",
              "       basement_square_feet  attached_garage_square_feet  \\\n",
              "count          16814.000000                 16814.000000   \n",
              "mean             167.852861                   364.425122   \n",
              "std              429.065832                   286.454018   \n",
              "min                0.000000                     0.000000   \n",
              "25%                0.000000                     0.000000   \n",
              "50%                0.000000                   420.000000   \n",
              "75%                0.000000                   528.000000   \n",
              "max             4000.000000                  2816.000000   \n",
              "\n",
              "       detached_garage_square_feet    fireplaces       stories    year_built  \\\n",
              "count                 16814.000000  16814.000000  16814.000000  16814.000000   \n",
              "mean                     38.298501      0.889021      1.558285   1980.469252   \n",
              "std                     164.691471      0.596731      0.512055     33.339025   \n",
              "min                       0.000000      0.000000      0.000000   1880.000000   \n",
              "25%                       0.000000      1.000000      1.000000   1959.000000   \n",
              "50%                       0.000000      1.000000      2.000000   1990.000000   \n",
              "75%                       0.000000      1.000000      2.000000   2006.000000   \n",
              "max                    3664.000000      5.000000      3.000000   2021.000000   \n",
              "\n",
              "           bedrooms     bathrooms  \n",
              "count  16814.000000  16814.000000  \n",
              "mean       3.277983      2.317176  \n",
              "std        0.891240      0.827956  \n",
              "min        0.000000      0.000000  \n",
              "25%        3.000000      2.000000  \n",
              "50%        3.000000      2.000000  \n",
              "75%        4.000000      3.000000  \n",
              "max       25.000000      8.000000  "
            ],
            "text/html": [
              "\n",
              "  <div id=\"df-1c022637-59d6-4af6-a5ae-d7b1d516df57\" class=\"colab-df-container\">\n",
              "    <div>\n",
              "<style scoped>\n",
              "    .dataframe tbody tr th:only-of-type {\n",
              "        vertical-align: middle;\n",
              "    }\n",
              "\n",
              "    .dataframe tbody tr th {\n",
              "        vertical-align: top;\n",
              "    }\n",
              "\n",
              "    .dataframe thead th {\n",
              "        text-align: right;\n",
              "    }\n",
              "</style>\n",
              "<table border=\"1\" class=\"dataframe\">\n",
              "  <thead>\n",
              "    <tr style=\"text-align: right;\">\n",
              "      <th></th>\n",
              "      <th>sale_price</th>\n",
              "      <th>house_square_feet</th>\n",
              "      <th>attic_finished_square_feet</th>\n",
              "      <th>basement_square_feet</th>\n",
              "      <th>attached_garage_square_feet</th>\n",
              "      <th>detached_garage_square_feet</th>\n",
              "      <th>fireplaces</th>\n",
              "      <th>stories</th>\n",
              "      <th>year_built</th>\n",
              "      <th>bedrooms</th>\n",
              "      <th>bathrooms</th>\n",
              "    </tr>\n",
              "  </thead>\n",
              "  <tbody>\n",
              "    <tr>\n",
              "      <th>count</th>\n",
              "      <td>1.681400e+04</td>\n",
              "      <td>16814.000000</td>\n",
              "      <td>16814.000000</td>\n",
              "      <td>16814.000000</td>\n",
              "      <td>16814.000000</td>\n",
              "      <td>16814.000000</td>\n",
              "      <td>16814.000000</td>\n",
              "      <td>16814.000000</td>\n",
              "      <td>16814.000000</td>\n",
              "      <td>16814.000000</td>\n",
              "      <td>16814.000000</td>\n",
              "    </tr>\n",
              "    <tr>\n",
              "      <th>mean</th>\n",
              "      <td>4.612332e+05</td>\n",
              "      <td>1879.941953</td>\n",
              "      <td>24.945878</td>\n",
              "      <td>167.852861</td>\n",
              "      <td>364.425122</td>\n",
              "      <td>38.298501</td>\n",
              "      <td>0.889021</td>\n",
              "      <td>1.558285</td>\n",
              "      <td>1980.469252</td>\n",
              "      <td>3.277983</td>\n",
              "      <td>2.317176</td>\n",
              "    </tr>\n",
              "    <tr>\n",
              "      <th>std</th>\n",
              "      <td>2.360833e+05</td>\n",
              "      <td>760.419008</td>\n",
              "      <td>102.066417</td>\n",
              "      <td>429.065832</td>\n",
              "      <td>286.454018</td>\n",
              "      <td>164.691471</td>\n",
              "      <td>0.596731</td>\n",
              "      <td>0.512055</td>\n",
              "      <td>33.339025</td>\n",
              "      <td>0.891240</td>\n",
              "      <td>0.827956</td>\n",
              "    </tr>\n",
              "    <tr>\n",
              "      <th>min</th>\n",
              "      <td>2.000000e+03</td>\n",
              "      <td>1.000000</td>\n",
              "      <td>0.000000</td>\n",
              "      <td>0.000000</td>\n",
              "      <td>0.000000</td>\n",
              "      <td>0.000000</td>\n",
              "      <td>0.000000</td>\n",
              "      <td>0.000000</td>\n",
              "      <td>1880.000000</td>\n",
              "      <td>0.000000</td>\n",
              "      <td>0.000000</td>\n",
              "    </tr>\n",
              "    <tr>\n",
              "      <th>25%</th>\n",
              "      <td>3.480000e+05</td>\n",
              "      <td>1320.000000</td>\n",
              "      <td>0.000000</td>\n",
              "      <td>0.000000</td>\n",
              "      <td>0.000000</td>\n",
              "      <td>0.000000</td>\n",
              "      <td>1.000000</td>\n",
              "      <td>1.000000</td>\n",
              "      <td>1959.000000</td>\n",
              "      <td>3.000000</td>\n",
              "      <td>2.000000</td>\n",
              "    </tr>\n",
              "    <tr>\n",
              "      <th>50%</th>\n",
              "      <td>4.165000e+05</td>\n",
              "      <td>1774.000000</td>\n",
              "      <td>0.000000</td>\n",
              "      <td>0.000000</td>\n",
              "      <td>420.000000</td>\n",
              "      <td>0.000000</td>\n",
              "      <td>1.000000</td>\n",
              "      <td>2.000000</td>\n",
              "      <td>1990.000000</td>\n",
              "      <td>3.000000</td>\n",
              "      <td>2.000000</td>\n",
              "    </tr>\n",
              "    <tr>\n",
              "      <th>75%</th>\n",
              "      <td>5.238065e+05</td>\n",
              "      <td>2352.000000</td>\n",
              "      <td>0.000000</td>\n",
              "      <td>0.000000</td>\n",
              "      <td>528.000000</td>\n",
              "      <td>0.000000</td>\n",
              "      <td>1.000000</td>\n",
              "      <td>2.000000</td>\n",
              "      <td>2006.000000</td>\n",
              "      <td>4.000000</td>\n",
              "      <td>3.000000</td>\n",
              "    </tr>\n",
              "    <tr>\n",
              "      <th>max</th>\n",
              "      <td>6.130000e+06</td>\n",
              "      <td>9510.000000</td>\n",
              "      <td>1212.000000</td>\n",
              "      <td>4000.000000</td>\n",
              "      <td>2816.000000</td>\n",
              "      <td>3664.000000</td>\n",
              "      <td>5.000000</td>\n",
              "      <td>3.000000</td>\n",
              "      <td>2021.000000</td>\n",
              "      <td>25.000000</td>\n",
              "      <td>8.000000</td>\n",
              "    </tr>\n",
              "  </tbody>\n",
              "</table>\n",
              "</div>\n",
              "    <div class=\"colab-df-buttons\">\n",
              "\n",
              "  <div class=\"colab-df-container\">\n",
              "    <button class=\"colab-df-convert\" onclick=\"convertToInteractive('df-1c022637-59d6-4af6-a5ae-d7b1d516df57')\"\n",
              "            title=\"Convert this dataframe to an interactive table.\"\n",
              "            style=\"display:none;\">\n",
              "\n",
              "  <svg xmlns=\"http://www.w3.org/2000/svg\" height=\"24px\" viewBox=\"0 -960 960 960\">\n",
              "    <path d=\"M120-120v-720h720v720H120Zm60-500h600v-160H180v160Zm220 220h160v-160H400v160Zm0 220h160v-160H400v160ZM180-400h160v-160H180v160Zm440 0h160v-160H620v160ZM180-180h160v-160H180v160Zm440 0h160v-160H620v160Z\"/>\n",
              "  </svg>\n",
              "    </button>\n",
              "\n",
              "  <style>\n",
              "    .colab-df-container {\n",
              "      display:flex;\n",
              "      gap: 12px;\n",
              "    }\n",
              "\n",
              "    .colab-df-convert {\n",
              "      background-color: #E8F0FE;\n",
              "      border: none;\n",
              "      border-radius: 50%;\n",
              "      cursor: pointer;\n",
              "      display: none;\n",
              "      fill: #1967D2;\n",
              "      height: 32px;\n",
              "      padding: 0 0 0 0;\n",
              "      width: 32px;\n",
              "    }\n",
              "\n",
              "    .colab-df-convert:hover {\n",
              "      background-color: #E2EBFA;\n",
              "      box-shadow: 0px 1px 2px rgba(60, 64, 67, 0.3), 0px 1px 3px 1px rgba(60, 64, 67, 0.15);\n",
              "      fill: #174EA6;\n",
              "    }\n",
              "\n",
              "    .colab-df-buttons div {\n",
              "      margin-bottom: 4px;\n",
              "    }\n",
              "\n",
              "    [theme=dark] .colab-df-convert {\n",
              "      background-color: #3B4455;\n",
              "      fill: #D2E3FC;\n",
              "    }\n",
              "\n",
              "    [theme=dark] .colab-df-convert:hover {\n",
              "      background-color: #434B5C;\n",
              "      box-shadow: 0px 1px 3px 1px rgba(0, 0, 0, 0.15);\n",
              "      filter: drop-shadow(0px 1px 2px rgba(0, 0, 0, 0.3));\n",
              "      fill: #FFFFFF;\n",
              "    }\n",
              "  </style>\n",
              "\n",
              "    <script>\n",
              "      const buttonEl =\n",
              "        document.querySelector('#df-1c022637-59d6-4af6-a5ae-d7b1d516df57 button.colab-df-convert');\n",
              "      buttonEl.style.display =\n",
              "        google.colab.kernel.accessAllowed ? 'block' : 'none';\n",
              "\n",
              "      async function convertToInteractive(key) {\n",
              "        const element = document.querySelector('#df-1c022637-59d6-4af6-a5ae-d7b1d516df57');\n",
              "        const dataTable =\n",
              "          await google.colab.kernel.invokeFunction('convertToInteractive',\n",
              "                                                    [key], {});\n",
              "        if (!dataTable) return;\n",
              "\n",
              "        const docLinkHtml = 'Like what you see? Visit the ' +\n",
              "          '<a target=\"_blank\" href=https://colab.research.google.com/notebooks/data_table.ipynb>data table notebook</a>'\n",
              "          + ' to learn more about interactive tables.';\n",
              "        element.innerHTML = '';\n",
              "        dataTable['output_type'] = 'display_data';\n",
              "        await google.colab.output.renderOutput(dataTable, element);\n",
              "        const docLink = document.createElement('div');\n",
              "        docLink.innerHTML = docLinkHtml;\n",
              "        element.appendChild(docLink);\n",
              "      }\n",
              "    </script>\n",
              "  </div>\n",
              "\n",
              "\n",
              "<div id=\"df-092368c0-4cf5-4376-b8e7-b51ebf5a6f89\">\n",
              "  <button class=\"colab-df-quickchart\" onclick=\"quickchart('df-092368c0-4cf5-4376-b8e7-b51ebf5a6f89')\"\n",
              "            title=\"Suggest charts\"\n",
              "            style=\"display:none;\">\n",
              "\n",
              "<svg xmlns=\"http://www.w3.org/2000/svg\" height=\"24px\"viewBox=\"0 0 24 24\"\n",
              "     width=\"24px\">\n",
              "    <g>\n",
              "        <path d=\"M19 3H5c-1.1 0-2 .9-2 2v14c0 1.1.9 2 2 2h14c1.1 0 2-.9 2-2V5c0-1.1-.9-2-2-2zM9 17H7v-7h2v7zm4 0h-2V7h2v10zm4 0h-2v-4h2v4z\"/>\n",
              "    </g>\n",
              "</svg>\n",
              "  </button>\n",
              "\n",
              "<style>\n",
              "  .colab-df-quickchart {\n",
              "      --bg-color: #E8F0FE;\n",
              "      --fill-color: #1967D2;\n",
              "      --hover-bg-color: #E2EBFA;\n",
              "      --hover-fill-color: #174EA6;\n",
              "      --disabled-fill-color: #AAA;\n",
              "      --disabled-bg-color: #DDD;\n",
              "  }\n",
              "\n",
              "  [theme=dark] .colab-df-quickchart {\n",
              "      --bg-color: #3B4455;\n",
              "      --fill-color: #D2E3FC;\n",
              "      --hover-bg-color: #434B5C;\n",
              "      --hover-fill-color: #FFFFFF;\n",
              "      --disabled-bg-color: #3B4455;\n",
              "      --disabled-fill-color: #666;\n",
              "  }\n",
              "\n",
              "  .colab-df-quickchart {\n",
              "    background-color: var(--bg-color);\n",
              "    border: none;\n",
              "    border-radius: 50%;\n",
              "    cursor: pointer;\n",
              "    display: none;\n",
              "    fill: var(--fill-color);\n",
              "    height: 32px;\n",
              "    padding: 0;\n",
              "    width: 32px;\n",
              "  }\n",
              "\n",
              "  .colab-df-quickchart:hover {\n",
              "    background-color: var(--hover-bg-color);\n",
              "    box-shadow: 0 1px 2px rgba(60, 64, 67, 0.3), 0 1px 3px 1px rgba(60, 64, 67, 0.15);\n",
              "    fill: var(--button-hover-fill-color);\n",
              "  }\n",
              "\n",
              "  .colab-df-quickchart-complete:disabled,\n",
              "  .colab-df-quickchart-complete:disabled:hover {\n",
              "    background-color: var(--disabled-bg-color);\n",
              "    fill: var(--disabled-fill-color);\n",
              "    box-shadow: none;\n",
              "  }\n",
              "\n",
              "  .colab-df-spinner {\n",
              "    border: 2px solid var(--fill-color);\n",
              "    border-color: transparent;\n",
              "    border-bottom-color: var(--fill-color);\n",
              "    animation:\n",
              "      spin 1s steps(1) infinite;\n",
              "  }\n",
              "\n",
              "  @keyframes spin {\n",
              "    0% {\n",
              "      border-color: transparent;\n",
              "      border-bottom-color: var(--fill-color);\n",
              "      border-left-color: var(--fill-color);\n",
              "    }\n",
              "    20% {\n",
              "      border-color: transparent;\n",
              "      border-left-color: var(--fill-color);\n",
              "      border-top-color: var(--fill-color);\n",
              "    }\n",
              "    30% {\n",
              "      border-color: transparent;\n",
              "      border-left-color: var(--fill-color);\n",
              "      border-top-color: var(--fill-color);\n",
              "      border-right-color: var(--fill-color);\n",
              "    }\n",
              "    40% {\n",
              "      border-color: transparent;\n",
              "      border-right-color: var(--fill-color);\n",
              "      border-top-color: var(--fill-color);\n",
              "    }\n",
              "    60% {\n",
              "      border-color: transparent;\n",
              "      border-right-color: var(--fill-color);\n",
              "    }\n",
              "    80% {\n",
              "      border-color: transparent;\n",
              "      border-right-color: var(--fill-color);\n",
              "      border-bottom-color: var(--fill-color);\n",
              "    }\n",
              "    90% {\n",
              "      border-color: transparent;\n",
              "      border-bottom-color: var(--fill-color);\n",
              "    }\n",
              "  }\n",
              "</style>\n",
              "\n",
              "  <script>\n",
              "    async function quickchart(key) {\n",
              "      const quickchartButtonEl =\n",
              "        document.querySelector('#' + key + ' button');\n",
              "      quickchartButtonEl.disabled = true;  // To prevent multiple clicks.\n",
              "      quickchartButtonEl.classList.add('colab-df-spinner');\n",
              "      try {\n",
              "        const charts = await google.colab.kernel.invokeFunction(\n",
              "            'suggestCharts', [key], {});\n",
              "      } catch (error) {\n",
              "        console.error('Error during call to suggestCharts:', error);\n",
              "      }\n",
              "      quickchartButtonEl.classList.remove('colab-df-spinner');\n",
              "      quickchartButtonEl.classList.add('colab-df-quickchart-complete');\n",
              "    }\n",
              "    (() => {\n",
              "      let quickchartButtonEl =\n",
              "        document.querySelector('#df-092368c0-4cf5-4376-b8e7-b51ebf5a6f89 button');\n",
              "      quickchartButtonEl.style.display =\n",
              "        google.colab.kernel.accessAllowed ? 'block' : 'none';\n",
              "    })();\n",
              "  </script>\n",
              "</div>\n",
              "\n",
              "    </div>\n",
              "  </div>\n"
            ],
            "application/vnd.google.colaboratory.intrinsic+json": {
              "type": "dataframe",
              "summary": "{\n  \"name\": \"df\",\n  \"rows\": 8,\n  \"fields\": [\n    {\n      \"column\": \"sale_price\",\n      \"properties\": {\n        \"dtype\": \"number\",\n        \"std\": 2075141.1097806082,\n        \"min\": 2000.0,\n        \"max\": 6130000.0,\n        \"num_unique_values\": 8,\n        \"samples\": [\n          461233.1915070774,\n          416500.0,\n          16814.0\n        ],\n        \"semantic_type\": \"\",\n        \"description\": \"\"\n      }\n    },\n    {\n      \"column\": \"house_square_feet\",\n      \"properties\": {\n        \"dtype\": \"number\",\n        \"std\": 5851.334101999149,\n        \"min\": 1.0,\n        \"max\": 16814.0,\n        \"num_unique_values\": 8,\n        \"samples\": [\n          1879.9419531342928,\n          1774.0,\n          16814.0\n        ],\n        \"semantic_type\": \"\",\n        \"description\": \"\"\n      }\n    },\n    {\n      \"column\": \"attic_finished_square_feet\",\n      \"properties\": {\n        \"dtype\": \"number\",\n        \"std\": 5891.872100316605,\n        \"min\": 0.0,\n        \"max\": 16814.0,\n        \"num_unique_values\": 5,\n        \"samples\": [\n          24.9458784346378,\n          1212.0,\n          102.06641703010592\n        ],\n        \"semantic_type\": \"\",\n        \"description\": \"\"\n      }\n    },\n    {\n      \"column\": \"basement_square_feet\",\n      \"properties\": {\n        \"dtype\": \"number\",\n        \"std\": 5875.122347183299,\n        \"min\": 0.0,\n        \"max\": 16814.0,\n        \"num_unique_values\": 5,\n        \"samples\": [\n          167.852860711312,\n          4000.0,\n          429.06583248808874\n        ],\n        \"semantic_type\": \"\",\n        \"description\": \"\"\n      }\n    },\n    {\n      \"column\": \"attached_garage_square_feet\",\n      \"properties\": {\n        \"dtype\": \"number\",\n        \"std\": 5793.806223419005,\n        \"min\": 0.0,\n        \"max\": 16814.0,\n        \"num_unique_values\": 7,\n        \"samples\": [\n          16814.0,\n          364.42512192220767,\n          528.0\n        ],\n        \"semantic_type\": \"\",\n        \"description\": \"\"\n      }\n    },\n    {\n      \"column\": \"detached_garage_square_feet\",\n      \"properties\": {\n        \"dtype\": \"number\",\n        \"std\": 5888.259065741378,\n        \"min\": 0.0,\n        \"max\": 16814.0,\n        \"num_unique_values\": 5,\n        \"samples\": [\n          38.2985012489592,\n          3664.0,\n          164.69147095591063\n        ],\n        \"semantic_type\": \"\",\n        \"description\": \"\"\n      }\n    },\n    {\n      \"column\": \"fireplaces\",\n      \"properties\": {\n        \"dtype\": \"number\",\n        \"std\": 5944.16780236426,\n        \"min\": 0.0,\n        \"max\": 16814.0,\n        \"num_unique_values\": 6,\n        \"samples\": [\n          16814.0,\n          0.8890210538836684,\n          5.0\n        ],\n        \"semantic_type\": \"\",\n        \"description\": \"\"\n      }\n    },\n    {\n      \"column\": \"stories\",\n      \"properties\": {\n        \"dtype\": \"number\",\n        \"std\": 5944.138154988203,\n        \"min\": 0.0,\n        \"max\": 16814.0,\n        \"num_unique_values\": 7,\n        \"samples\": [\n          16814.0,\n          1.5582847626977518,\n          2.0\n        ],\n        \"semantic_type\": \"\",\n        \"description\": \"\"\n      }\n    },\n    {\n      \"column\": \"year_built\",\n      \"properties\": {\n        \"dtype\": \"number\",\n        \"std\": 5388.2082469584275,\n        \"min\": 33.33902531039787,\n        \"max\": 16814.0,\n        \"num_unique_values\": 8,\n        \"samples\": [\n          1980.4692518139645,\n          1990.0,\n          16814.0\n        ],\n        \"semantic_type\": \"\",\n        \"description\": \"\"\n      }\n    },\n    {\n      \"column\": \"bedrooms\",\n      \"properties\": {\n        \"dtype\": \"number\",\n        \"std\": 5942.673790164412,\n        \"min\": 0.0,\n        \"max\": 16814.0,\n        \"num_unique_values\": 7,\n        \"samples\": [\n          16814.0,\n          3.2779826335196858,\n          4.0\n        ],\n        \"semantic_type\": \"\",\n        \"description\": \"\"\n      }\n    },\n    {\n      \"column\": \"bathrooms\",\n      \"properties\": {\n        \"dtype\": \"number\",\n        \"std\": 5943.730722797974,\n        \"min\": 0.0,\n        \"max\": 16814.0,\n        \"num_unique_values\": 7,\n        \"samples\": [\n          16814.0,\n          2.3171761627215415,\n          3.0\n        ],\n        \"semantic_type\": \"\",\n        \"description\": \"\"\n      }\n    }\n  ]\n}"
            }
          },
          "metadata": {},
          "execution_count": 4
        }
      ]
    },
    {
      "cell_type": "code",
      "source": [
        "df['sale_price'].hist()"
      ],
      "metadata": {
        "colab": {
          "base_uri": "https://localhost:8080/",
          "height": 466
        },
        "id": "Z2triSQFDdhN",
        "outputId": "d12ae2c9-e582-4277-8bd2-7ad5618dd465"
      },
      "execution_count": 5,
      "outputs": [
        {
          "output_type": "execute_result",
          "data": {
            "text/plain": [
              "<Axes: >"
            ]
          },
          "metadata": {},
          "execution_count": 5
        },
        {
          "output_type": "display_data",
          "data": {
            "text/plain": [
              "<Figure size 640x480 with 1 Axes>"
            ],
            "image/png": "[encoded data removed]"
          },
          "metadata": {}
        }
      ]
    },
    {
      "cell_type": "code",
      "source": [
        "df['house_square_feet'].hist()"
      ],
      "metadata": {
        "colab": {
          "base_uri": "https://localhost:8080/",
          "height": 448
        },
        "id": "9sCQmn5TD-c9",
        "outputId": "b638adf2-ef51-45c6-d3e6-bb9f0de5f0e3"
      },
      "execution_count": 6,
      "outputs": [
        {
          "output_type": "execute_result",
          "data": {
            "text/plain": [
              "<Axes: >"
            ]
          },
          "metadata": {},
          "execution_count": 6
        },
        {
          "output_type": "display_data",
          "data": {
            "text/plain": [
              "<Figure size 640x480 with 1 Axes>"
            ],
            "image/png": "[encoded data removed]"
          },
          "metadata": {}
        }
      ]
    },
    {
      "cell_type": "markdown",
      "source": [
        "2. Transform your variables --- particularly categorical ones --- for use in your regression analysis."
      ],
      "metadata": {
        "id": "u4F-2jzkFRaw"
      }
    },
    {
      "cell_type": "code",
      "source": [
        "## Transform some badly scaled variables:\n",
        "df['sale_price_arcsinh'] = np.arcsinh(df['sale_price'])\n",
        "df['house_square_feet_arcsinh'] = np.arcsinh(df['house_square_feet'])\n",
        "df['sale_price_arcsinh'].hist()"
      ],
      "metadata": {
        "colab": {
          "base_uri": "https://localhost:8080/",
          "height": 448
        },
        "id": "tMjuUWNLDquU",
        "outputId": "4ead83df-7403-41a3-c150-f98a24cbcafa"
      },
      "execution_count": 7,
      "outputs": [
        {
          "output_type": "execute_result",
          "data": {
            "text/plain": [
              "<Axes: >"
            ]
          },
          "metadata": {},
          "execution_count": 7
        },
        {
          "output_type": "display_data",
          "data": {
            "text/plain": [
              "<Figure size 640x480 with 1 Axes>"
            ],
            "image/png": "[encoded data removed]"
          },
          "metadata": {}
        }
      ]
    },
    {
      "cell_type": "markdown",
      "source": [
        "3. Implement an ~80/~20 train-test split. Put the test data aside."
      ],
      "metadata": {
        "id": "bnmyEQN3FUT5"
      }
    },
    {
      "cell_type": "code",
      "source": [
        "y = df['sale_price'] # Create target variable vector\n",
        "vars = ['house_square_feet_arcsinh', 'bedrooms', 'bathrooms'] # Features\n",
        "\n",
        "vars2 = ['house_square_feet_arcsinh', 'bedrooms', 'bathrooms', 'year_built']\n",
        "\n",
        "X = df.loc[:,vars]\n",
        "X2 = df.loc[:,vars2]\n",
        "\n",
        "# Split the sample:\n",
        "from sklearn.model_selection import train_test_split\n",
        "X_train, X_test, y_train, y_test = train_test_split(X,y, # Feature and target variables\n",
        "                                                    test_size=.2, # Split the sample 80 train/ 20 test\n",
        "                                                    random_state=65) # For replication purposes\n",
        "\n",
        "X2_train, X2_test, y2_train, y2_test = train_test_split(X2,y, # Feature and target variables\n",
        "                                                    test_size=.2, # Split the sample 80 train/ 20 test\n",
        "                                                    random_state=65) # For replication purposes"
      ],
      "metadata": {
        "id": "U2xoygIkFUwk"
      },
      "execution_count": 11,
      "outputs": []
    },
    {
      "cell_type": "markdown",
      "source": [
        "4. Build some simple linear models that include no transformations or interactions. Fit them, and determine their RMSE and $R^2$ on the both the training and test sets. Which of your models does the best?"
      ],
      "metadata": {
        "id": "iBOqnGkdFXGJ"
      }
    },
    {
      "cell_type": "code",
      "source": [
        "from sklearn.linear_model import LinearRegression\n",
        "\n",
        "reg = LinearRegression().fit(X, y) # Fit the linear model\n",
        "print(reg.score(X, y)) # R squared measure"
      ],
      "metadata": {
        "id": "EQnyGkcxFXfJ",
        "outputId": "420aa7ec-fea1-4d94-bad5-6a4ca21d599b",
        "colab": {
          "base_uri": "https://localhost:8080/"
        }
      },
      "execution_count": 12,
      "outputs": [
        {
          "output_type": "stream",
          "name": "stdout",
          "text": [
            "0.2351143958767481\n"
          ]
        }
      ]
    },
    {
      "cell_type": "code",
      "source": [
        "reg = LinearRegression().fit(X2, y) # Fit the linear model\n",
        "print(reg.score(X2, y)) # R squared measure"
      ],
      "metadata": {
        "id": "P_8E1jNfzkuS",
        "outputId": "51e75e45-7beb-47d5-bf43-317c2a483a26",
        "colab": {
          "base_uri": "https://localhost:8080/"
        }
      },
      "execution_count": 13,
      "outputs": [
        {
          "output_type": "stream",
          "name": "stdout",
          "text": [
            "0.24223299475974525\n"
          ]
        }
      ]
    },
    {
      "cell_type": "markdown",
      "source": [
        "5. Make partial correlation plots for each of the numeric variables in your model. Do you notice any significant non-linearities?"
      ],
      "metadata": {
        "id": "oPi9qg4uFibS"
      }
    },
    {
      "cell_type": "code",
      "source": [
        "var =  'house_square_feet_arcsinh' #'mileage_ihs X age_ihs'\n",
        "x_k = X2[var]\n",
        "X_mk = X2.drop(var,axis=1)\n",
        "\n",
        "reg_y = LinearRegression(fit_intercept=False).fit(X_mk, y) # Fit the linear model\n",
        "r_y = y - reg_y.predict(X_mk)\n",
        "\n",
        "reg_k = LinearRegression(fit_intercept=False).fit(X_mk, x_k) # Fit the linear model\n",
        "r_x = x_k - reg_k.predict(X_mk)"
      ],
      "metadata": {
        "id": "-ZYx4ongFjcO"
      },
      "execution_count": 15,
      "outputs": []
    },
    {
      "cell_type": "code",
      "source": [
        "reg = LinearRegression().fit(r_x.to_numpy().reshape(-1, 1),r_y.to_numpy())\n",
        "print('Partial R^2: ', reg.score(r_x.to_numpy().reshape(-1, 1),r_y.to_numpy()) )"
      ],
      "metadata": {
        "id": "s1C9b5Xs1GQF",
        "outputId": "a3593584-fb46-4a2f-e72f-a47451d6e084",
        "colab": {
          "base_uri": "https://localhost:8080/"
        }
      },
      "execution_count": 17,
      "outputs": [
        {
          "output_type": "stream",
          "name": "stdout",
          "text": [
            "Partial R^2:  0.08908508253659453\n"
          ]
        }
      ]
    },
    {
      "cell_type": "markdown",
      "source": [
        "6. Include transformations and interactions of your variables, and build a more complex model that reflects your ideas about how the features of the asset determine its value. Determine its RMSE and $R^2$ on the training and test sets. How does the more complex model your build compare to the simpler ones?"
      ],
      "metadata": {
        "id": "oZeT4gRQFmrs"
      }
    },
    {
      "cell_type": "code",
      "source": [
        "df['basement_square_feet_arcsinh'] = np.arcsinh(df['basement_square_feet'])"
      ],
      "metadata": {
        "id": "U8F6rXUs1wS5"
      },
      "execution_count": null,
      "outputs": []
    },
    {
      "cell_type": "code",
      "source": [
        "y = df['sale_price'] # Create target variable vector\n",
        "vars = ['house_square_feet_arcsinh', 'basement_square_feet_arcsinh' \\\n",
        "        'bedrooms', 'bathrooms', 'year_built'] # Features"
      ],
      "metadata": {
        "id": "rMZGm5XbFnEe"
      },
      "execution_count": 18,
      "outputs": []
    },
    {
      "cell_type": "markdown",
      "source": [
        "7. Summarize your results from 1 to 6. Have you learned anything about overfitting and underfitting, or model selection?"
      ],
      "metadata": {
        "id": "eznEd53VFwIJ"
      }
    },
    {
      "cell_type": "code",
      "source": [],
      "metadata": {
        "id": "UuBa4XyVFwsL"
      },
      "execution_count": null,
      "outputs": []
    },
    {
      "cell_type": "code",
      "source": [],
      "metadata": {
        "id": "0ML6mhOcF0E8"
      },
      "execution_count": null,
      "outputs": []
    },
    {
      "cell_type": "markdown",
      "source": [
        "8. If you have time, use the sklearn.linear_model.Lasso to regularize your model and select the most predictive features. Which does it select? What are the RMSE and $R^2$? We'll cover the Lasso later in detail in class."
      ],
      "metadata": {
        "id": "j8CGeVEAF0pI"
      }
    },
    {
      "cell_type": "code",
      "source": [],
      "metadata": {
        "id": "Ww1XkVknF1Js"
      },
      "execution_count": null,
      "outputs": []
    }
  ],
  "metadata": {
    "kernelspec": {
      "display_name": "base",
      "language": "python",
      "name": "python3"
    },
    "language_info": {
      "codemirror_mode": {
        "name": "ipython",
        "version": 3
      },
      "file_extension": ".py",
      "mimetype": "text/x-python",
      "name": "python",
      "nbconvert_exporter": "python",
      "pygments_lexer": "ipython3",
      "version": "3.12.2"
    },
    "colab": {
      "provenance": []
    }
  },
  "nbformat": 4,
  "nbformat_minor": 0
}